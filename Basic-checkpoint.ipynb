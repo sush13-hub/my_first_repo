{
 "cells": [
  {
   "cell_type": "markdown",
   "id": "752b15db-a172-4ab0-bb4e-2affe58219d5",
   "metadata": {},
   "source": [
    "# Welcome to Python Learning Session"
   ]
  },
  {
   "cell_type": "code",
   "execution_count": 1,
   "id": "3c151188-ac85-4425-a73f-54a864abd088",
   "metadata": {},
   "outputs": [
    {
     "data": {
      "text/plain": [
       "2"
      ]
     },
     "execution_count": 1,
     "metadata": {},
     "output_type": "execute_result"
    }
   ],
   "source": [
    "1+1"
   ]
  },
  {
   "cell_type": "code",
   "execution_count": 2,
   "id": "5e497334-e8a5-4539-a5e0-98c018a70937",
   "metadata": {},
   "outputs": [
    {
     "data": {
      "text/plain": [
       "8"
      ]
     },
     "execution_count": 2,
     "metadata": {},
     "output_type": "execute_result"
    }
   ],
   "source": [
    "4*2"
   ]
  },
  {
   "cell_type": "code",
   "execution_count": 22,
   "id": "39188d58-586a-43a1-8706-30b902cd0eb8",
   "metadata": {},
   "outputs": [
    {
     "data": {
      "text/plain": [
       "5.0"
      ]
     },
     "execution_count": 22,
     "metadata": {},
     "output_type": "execute_result"
    }
   ],
   "source": [
    "10/2"
   ]
  },
  {
   "cell_type": "code",
   "execution_count": 4,
   "id": "dcaa40bb-ae52-40f3-8e5d-496eca813859",
   "metadata": {},
   "outputs": [
    {
     "data": {
      "text/plain": [
       "100000"
      ]
     },
     "execution_count": 4,
     "metadata": {},
     "output_type": "execute_result"
    }
   ],
   "source": [
    "10**5"
   ]
  },
  {
   "cell_type": "code",
   "execution_count": 25,
   "id": "e1e78899-3a70-4c85-8b66-8b6fb750fdf0",
   "metadata": {},
   "outputs": [
    {
     "data": {
      "text/plain": [
       "'datadatadatadatadata'"
      ]
     },
     "execution_count": 25,
     "metadata": {},
     "output_type": "execute_result"
    }
   ],
   "source": [
    "5* 'data'"
   ]
  },
  {
   "cell_type": "code",
   "execution_count": 23,
   "id": "4b0467fd-b37d-496d-8a48-3c5d592f7233",
   "metadata": {},
   "outputs": [
    {
     "data": {
      "text/plain": [
       "'strstrstrstrstrstrstrstrstrstr'"
      ]
     },
     "execution_count": 23,
     "metadata": {},
     "output_type": "execute_result"
    }
   ],
   "source": [
    "10* 'str'"
   ]
  },
  {
   "cell_type": "code",
   "execution_count": null,
   "id": "4de66e3b-8791-4249-9404-58602ccdef2f",
   "metadata": {},
   "outputs": [],
   "source": []
  },
  {
   "cell_type": "code",
   "execution_count": 7,
   "id": "6257dba1-6a9e-472a-8d0a-d30f75937581",
   "metadata": {},
   "outputs": [
    {
     "data": {
      "text/plain": [
       "int"
      ]
     },
     "execution_count": 7,
     "metadata": {},
     "output_type": "execute_result"
    }
   ],
   "source": [
    "type(1)"
   ]
  },
  {
   "cell_type": "code",
   "execution_count": 11,
   "id": "33c126ff-fb64-4d33-be4a-cc42b6de2806",
   "metadata": {},
   "outputs": [
    {
     "data": {
      "text/plain": [
       "str"
      ]
     },
     "execution_count": 11,
     "metadata": {},
     "output_type": "execute_result"
    }
   ],
   "source": [
    "type(\"data\")"
   ]
  },
  {
   "cell_type": "code",
   "execution_count": 13,
   "id": "aac6e948-af1c-4e91-9ff7-3ffb50b09032",
   "metadata": {},
   "outputs": [
    {
     "data": {
      "text/plain": [
       "bool"
      ]
     },
     "execution_count": 13,
     "metadata": {},
     "output_type": "execute_result"
    }
   ],
   "source": [
    "type(True)"
   ]
  },
  {
   "cell_type": "raw",
   "id": "69fa15f1-969d-43e4-a0d7-b12833311818",
   "metadata": {},
   "source": [
    "'hello'"
   ]
  },
  {
   "cell_type": "code",
   "execution_count": 15,
   "id": "b733de29-e190-4775-b68f-54555a27d063",
   "metadata": {},
   "outputs": [
    {
     "data": {
      "text/plain": [
       "'krish naik'"
      ]
     },
     "execution_count": 15,
     "metadata": {},
     "output_type": "execute_result"
    }
   ],
   "source": [
    "'krish naik'"
   ]
  },
  {
   "cell_type": "code",
   "execution_count": 16,
   "id": "76dd4d88-963e-470e-85d2-fc63d71c6ee6",
   "metadata": {},
   "outputs": [
    {
     "data": {
      "text/plain": [
       "str"
      ]
     },
     "execution_count": 16,
     "metadata": {},
     "output_type": "execute_result"
    }
   ],
   "source": [
    "type(\"Sushila shivashimpiger\")"
   ]
  },
  {
   "cell_type": "code",
   "execution_count": 17,
   "id": "05912285-20ce-472f-b80b-f2a3088c3cc1",
   "metadata": {},
   "outputs": [
    {
     "data": {
      "text/plain": [
       "type"
      ]
     },
     "execution_count": 17,
     "metadata": {},
     "output_type": "execute_result"
    }
   ],
   "source": [
    "type(bool)"
   ]
  },
  {
   "cell_type": "code",
   "execution_count": null,
   "id": "9eb7c168-ed01-4e7f-86c8-1d844d84fb41",
   "metadata": {},
   "outputs": [],
   "source": []
  },
  {
   "cell_type": "code",
   "execution_count": 19,
   "id": "f05682e5-ffb4-407d-b3a5-2ff402da09b4",
   "metadata": {},
   "outputs": [
    {
     "data": {
      "text/plain": [
       "bool"
      ]
     },
     "execution_count": 19,
     "metadata": {},
     "output_type": "execute_result"
    }
   ],
   "source": [
    "type(False)"
   ]
  },
  {
   "cell_type": "code",
   "execution_count": 20,
   "id": "a5c96ab5-fe49-4725-9ccf-bfad7e6759b6",
   "metadata": {},
   "outputs": [
    {
     "data": {
      "text/plain": [
       "'string'"
      ]
     },
     "execution_count": 20,
     "metadata": {},
     "output_type": "execute_result"
    }
   ],
   "source": [
    "'string'"
   ]
  },
  {
   "cell_type": "code",
   "execution_count": 36,
   "id": "ea514592-5274-4a37-a2aa-23c0ec6a8184",
   "metadata": {},
   "outputs": [],
   "source": [
    "a=10"
   ]
  },
  {
   "cell_type": "code",
   "execution_count": 37,
   "id": "b889822f-1817-43a1-8abd-cf253ab0d902",
   "metadata": {},
   "outputs": [
    {
     "data": {
      "text/plain": [
       "int"
      ]
     },
     "execution_count": 37,
     "metadata": {},
     "output_type": "execute_result"
    }
   ],
   "source": [
    "type(a)"
   ]
  },
  {
   "cell_type": "code",
   "execution_count": 38,
   "id": "f1bdec7f-fd5f-424d-a197-7b2c82c46755",
   "metadata": {},
   "outputs": [],
   "source": [
    "a='sush'"
   ]
  },
  {
   "cell_type": "code",
   "execution_count": 39,
   "id": "d875c31f-9c6b-4d85-86b4-a8231da160f0",
   "metadata": {},
   "outputs": [
    {
     "data": {
      "text/plain": [
       "str"
      ]
     },
     "execution_count": 39,
     "metadata": {},
     "output_type": "execute_result"
    }
   ],
   "source": [
    "type(a)"
   ]
  },
  {
   "cell_type": "code",
   "execution_count": 40,
   "id": "efdd5af6-5f11-4a1c-9876-651b70cc484f",
   "metadata": {},
   "outputs": [],
   "source": [
    "## Mathematical operation with variable assignment\n",
    "\n",
    "a=10\n",
    "b=20"
   ]
  },
  {
   "cell_type": "code",
   "execution_count": 44,
   "id": "7333a34f-eb78-4efb-9a65-17a0a3150e7d",
   "metadata": {},
   "outputs": [
    {
     "name": "stdout",
     "output_type": "stream",
     "text": [
      "200\n",
      "0.5\n",
      "10\n",
      "200.5\n"
     ]
    }
   ],
   "source": [
    "print(a*b)\n",
    "print(a/b)\n",
    "print(a%b)\n",
    "print((a*b)+(a/b))  ##BODMAS Rule"
   ]
  },
  {
   "cell_type": "code",
   "execution_count": 45,
   "id": "c46ea08c-4972-45c6-b09d-0f979a90a0f6",
   "metadata": {},
   "outputs": [],
   "source": [
    "##various ways of Printing"
   ]
  },
  {
   "cell_type": "code",
   "execution_count": 46,
   "id": "a3c62838-ab93-488c-8b04-0830dc4c5dc7",
   "metadata": {},
   "outputs": [
    {
     "name": "stdout",
     "output_type": "stream",
     "text": [
      "hello world\n"
     ]
    }
   ],
   "source": [
    "print('hello world')"
   ]
  },
  {
   "cell_type": "code",
   "execution_count": null,
   "id": "3585d52d-b9fa-4dda-b81f-74dd50462749",
   "metadata": {},
   "outputs": [],
   "source": [
    " first_name ='sushila'\n",
    " last_name ='shivashimpiger'"
   ]
  },
  {
   "cell_type": "code",
   "execution_count": 5,
   "id": "fad199aa-bc40-4bd1-8604-4f6f7b005744",
   "metadata": {},
   "outputs": [
    {
     "name": "stdout",
     "output_type": "stream",
     "text": [
      "My first name is sushila and last name is shivashimpiger\n"
     ]
    }
   ],
   "source": [
    "print(\"My first name is {} and last name is {}\".format(first_name, last_name))"
   ]
  },
  {
   "cell_type": "code",
   "execution_count": 7,
   "id": "711c5e51-ea9d-4e4f-9b6b-8097cd6411ca",
   "metadata": {},
   "outputs": [
    {
     "name": "stdout",
     "output_type": "stream",
     "text": [
      "My first name is sushila and last name is shivashimpiger\n"
     ]
    }
   ],
   "source": [
    "first_name = 'sushila'\n",
    "last_name = 'shivashimpiger'\n",
    "print(\"My first name is {first} and last name is {last}\".format( last=last_name, first=first_name,))\n"
   ]
  },
  {
   "cell_type": "code",
   "execution_count": 9,
   "id": "7a79e7ff-cfc0-41e6-8ec4-dd2a38df46ca",
   "metadata": {},
   "outputs": [
    {
     "data": {
      "text/plain": [
       "4"
      ]
     },
     "execution_count": 9,
     "metadata": {},
     "output_type": "execute_result"
    }
   ],
   "source": [
    "len ('sush')\n"
   ]
  },
  {
   "cell_type": "code",
   "execution_count": 10,
   "id": "cef24654-f6a9-4235-9aa5-b26a31383fa8",
   "metadata": {},
   "outputs": [
    {
     "data": {
      "text/plain": [
       "list"
      ]
     },
     "execution_count": 10,
     "metadata": {},
     "output_type": "execute_result"
    }
   ],
   "source": [
    "type([1,2,3,4,5])"
   ]
  },
  {
   "cell_type": "code",
   "execution_count": 11,
   "id": "d8c1989f-f678-4f77-a604-48406455231b",
   "metadata": {},
   "outputs": [
    {
     "data": {
      "text/plain": [
       "str"
      ]
     },
     "execution_count": 11,
     "metadata": {},
     "output_type": "execute_result"
    }
   ],
   "source": [
    "type(\"krish naik\")"
   ]
  },
  {
   "cell_type": "code",
   "execution_count": 12,
   "id": "35276729-c2c1-40ff-bb8e-ec489055e393",
   "metadata": {},
   "outputs": [
    {
     "data": {
      "text/plain": [
       "str"
      ]
     },
     "execution_count": 12,
     "metadata": {},
     "output_type": "execute_result"
    }
   ],
   "source": [
    "type('deepa')"
   ]
  },
  {
   "cell_type": "code",
   "execution_count": null,
   "id": "592c025d-f94e-47bd-bcfd-50ce48fca9cb",
   "metadata": {},
   "outputs": [],
   "source": []
  }
 ],
 "metadata": {
  "kernelspec": {
   "display_name": "Python 3 (ipykernel)",
   "language": "python",
   "name": "python3"
  },
  "language_info": {
   "codemirror_mode": {
    "name": "ipython",
    "version": 3
   },
   "file_extension": ".py",
   "mimetype": "text/x-python",
   "name": "python",
   "nbconvert_exporter": "python",
   "pygments_lexer": "ipython3",
   "version": "3.12.7"
  }
 },
 "nbformat": 4,
 "nbformat_minor": 5
}
