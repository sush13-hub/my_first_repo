{
 "cells": [
  {
   "cell_type": "markdown",
   "id": "f7b03e40-19de-4678-b8ea-06cd8c1320e5",
   "metadata": {},
   "source": [
    "# Basic of Python"
   ]
  },
  {
   "cell_type": "code",
   "execution_count": 1,
   "id": "5d052822-06f2-46a1-9cb4-aa4f146f9182",
   "metadata": {},
   "outputs": [
    {
     "data": {
      "text/plain": [
       "10"
      ]
     },
     "execution_count": 1,
     "metadata": {},
     "output_type": "execute_result"
    }
   ],
   "source": [
    "5+5"
   ]
  },
  {
   "cell_type": "code",
   "execution_count": 2,
   "id": "fedac169-93be-40d8-87b0-b7cbce152f87",
   "metadata": {},
   "outputs": [
    {
     "data": {
      "text/plain": [
       "1.0"
      ]
     },
     "execution_count": 2,
     "metadata": {},
     "output_type": "execute_result"
    }
   ],
   "source": [
    "8/8"
   ]
  },
  {
   "cell_type": "code",
   "execution_count": 3,
   "id": "52ea4d90-6e9e-47ad-a6a2-c014068b57a6",
   "metadata": {},
   "outputs": [
    {
     "data": {
      "text/plain": [
       "True"
      ]
     },
     "execution_count": 3,
     "metadata": {},
     "output_type": "execute_result"
    }
   ],
   "source": [
    "True"
   ]
  },
  {
   "cell_type": "code",
   "execution_count": 4,
   "id": "432a704e-ae6e-43c1-805e-45fe09536ef2",
   "metadata": {},
   "outputs": [
    {
     "data": {
      "text/plain": [
       "False"
      ]
     },
     "execution_count": 4,
     "metadata": {},
     "output_type": "execute_result"
    }
   ],
   "source": [
    "False"
   ]
  },
  {
   "cell_type": "code",
   "execution_count": 5,
   "id": "db11eb12-3945-4096-9b4f-fa2e6378453d",
   "metadata": {},
   "outputs": [
    {
     "data": {
      "text/plain": [
       "bool"
      ]
     },
     "execution_count": 5,
     "metadata": {},
     "output_type": "execute_result"
    }
   ],
   "source": [
    "type(True)"
   ]
  },
  {
   "cell_type": "code",
   "execution_count": 6,
   "id": "60ed96c1-4476-4155-8095-0aba3efb32cb",
   "metadata": {},
   "outputs": [
    {
     "data": {
      "text/plain": [
       "bool"
      ]
     },
     "execution_count": 6,
     "metadata": {},
     "output_type": "execute_result"
    }
   ],
   "source": [
    "type(False)"
   ]
  },
  {
   "cell_type": "code",
   "execution_count": 7,
   "id": "40d49407-c1e6-4d85-bc5f-d3c2a223f921",
   "metadata": {},
   "outputs": [
    {
     "data": {
      "text/plain": [
       "float"
      ]
     },
     "execution_count": 7,
     "metadata": {},
     "output_type": "execute_result"
    }
   ],
   "source": [
    "type(0.1)"
   ]
  },
  {
   "cell_type": "code",
   "execution_count": 9,
   "id": "9ae12678-b3b2-48b5-9a23-6dad8c6951e6",
   "metadata": {},
   "outputs": [
    {
     "data": {
      "text/plain": [
       "str"
      ]
     },
     "execution_count": 9,
     "metadata": {},
     "output_type": "execute_result"
    }
   ],
   "source": [
    "type(\"sush\")"
   ]
  },
  {
   "cell_type": "code",
   "execution_count": 10,
   "id": "5962e4ae-a70a-4fe9-9e30-a4b13603dd15",
   "metadata": {},
   "outputs": [
    {
     "data": {
      "text/plain": [
       "int"
      ]
     },
     "execution_count": 10,
     "metadata": {},
     "output_type": "execute_result"
    }
   ],
   "source": [
    "type(9)"
   ]
  },
  {
   "cell_type": "markdown",
   "id": "91b2be9c-1320-412e-8128-b1575b88174d",
   "metadata": {},
   "source": [
    "# Boolean Variables"
   ]
  },
  {
   "cell_type": "code",
   "execution_count": 11,
   "id": "baf16591-f356-4f78-9a97-45067a8d46e7",
   "metadata": {},
   "outputs": [],
   "source": [
    "my_str=\"sush\""
   ]
  },
  {
   "cell_type": "code",
   "execution_count": 45,
   "id": "63443c26-7b56-4fe3-98ff-93d023e71339",
   "metadata": {},
   "outputs": [
    {
     "data": {
      "text/plain": [
       "True"
      ]
     },
     "execution_count": 45,
     "metadata": {},
     "output_type": "execute_result"
    }
   ],
   "source": [
    "my_str.isalnum()"
   ]
  },
  {
   "cell_type": "code",
   "execution_count": 17,
   "id": "5d8d2a79-207c-4b84-ab86-815a76f5b30f",
   "metadata": {},
   "outputs": [
    {
     "data": {
      "text/plain": [
       "True"
      ]
     },
     "execution_count": 17,
     "metadata": {},
     "output_type": "execute_result"
    }
   ],
   "source": [
    "my_str.isalpha()"
   ]
  },
  {
   "cell_type": "code",
   "execution_count": 19,
   "id": "4b6f7d57-3f49-43f1-b53a-8a73ff536237",
   "metadata": {},
   "outputs": [
    {
     "data": {
      "text/plain": [
       "False"
      ]
     },
     "execution_count": 19,
     "metadata": {},
     "output_type": "execute_result"
    }
   ],
   "source": [
    "my_str.isdigit()"
   ]
  },
  {
   "cell_type": "code",
   "execution_count": 20,
   "id": "f7fa29b5-81e7-48be-a37d-1ba8863400dc",
   "metadata": {},
   "outputs": [
    {
     "data": {
      "text/plain": [
       "False"
      ]
     },
     "execution_count": 20,
     "metadata": {},
     "output_type": "execute_result"
    }
   ],
   "source": [
    "my_str.istitle()"
   ]
  },
  {
   "cell_type": "code",
   "execution_count": 21,
   "id": "90f339af-c77e-4d20-a632-327563f256b1",
   "metadata": {},
   "outputs": [
    {
     "data": {
      "text/plain": [
       "False"
      ]
     },
     "execution_count": 21,
     "metadata": {},
     "output_type": "execute_result"
    }
   ],
   "source": [
    "my_str.isupper()"
   ]
  },
  {
   "cell_type": "code",
   "execution_count": 22,
   "id": "91da5694-27b3-4b74-9b6f-d79c9c5ed729",
   "metadata": {},
   "outputs": [
    {
     "data": {
      "text/plain": [
       "True"
      ]
     },
     "execution_count": 22,
     "metadata": {},
     "output_type": "execute_result"
    }
   ],
   "source": [
    "my_str.islower()"
   ]
  },
  {
   "cell_type": "code",
   "execution_count": 23,
   "id": "6c2ec506-1184-4694-b55f-58b8c1b89401",
   "metadata": {},
   "outputs": [
    {
     "data": {
      "text/plain": [
       "False"
      ]
     },
     "execution_count": 23,
     "metadata": {},
     "output_type": "execute_result"
    }
   ],
   "source": [
    "my_str.isspace()"
   ]
  },
  {
   "cell_type": "code",
   "execution_count": 31,
   "id": "f01ec301-5bc2-4f70-959e-7bc6651b3c3a",
   "metadata": {},
   "outputs": [
    {
     "data": {
      "text/plain": [
       "True"
      ]
     },
     "execution_count": 31,
     "metadata": {},
     "output_type": "execute_result"
    }
   ],
   "source": [
    "my_str.endswith(\"h\")"
   ]
  },
  {
   "cell_type": "code",
   "execution_count": 29,
   "id": "afd0706b-a4a3-4e9d-a697-343d8be08fe7",
   "metadata": {},
   "outputs": [
    {
     "data": {
      "text/plain": [
       "True"
      ]
     },
     "execution_count": 29,
     "metadata": {},
     "output_type": "execute_result"
    }
   ],
   "source": [
    "my_str.startswith(\"s\")"
   ]
  },
  {
   "cell_type": "code",
   "execution_count": 34,
   "id": "ce114703-fca8-4a22-8343-9a7e7be1613a",
   "metadata": {},
   "outputs": [
    {
     "data": {
      "text/plain": [
       "True"
      ]
     },
     "execution_count": 34,
     "metadata": {},
     "output_type": "execute_result"
    }
   ],
   "source": [
    "True and True"
   ]
  },
  {
   "cell_type": "code",
   "execution_count": 35,
   "id": "830ac691-0ca8-48ba-bf35-698fa170713c",
   "metadata": {},
   "outputs": [
    {
     "data": {
      "text/plain": [
       "False"
      ]
     },
     "execution_count": 35,
     "metadata": {},
     "output_type": "execute_result"
    }
   ],
   "source": [
    "True and False"
   ]
  },
  {
   "cell_type": "code",
   "execution_count": 36,
   "id": "993cb6b7-89e6-46bd-9d5d-783ec61becab",
   "metadata": {},
   "outputs": [
    {
     "data": {
      "text/plain": [
       "True"
      ]
     },
     "execution_count": 36,
     "metadata": {},
     "output_type": "execute_result"
    }
   ],
   "source": [
    "True or False\n"
   ]
  },
  {
   "cell_type": "code",
   "execution_count": 37,
   "id": "57480476-7268-4646-94a3-35a66786e9be",
   "metadata": {},
   "outputs": [
    {
     "data": {
      "text/plain": [
       "True"
      ]
     },
     "execution_count": 37,
     "metadata": {},
     "output_type": "execute_result"
    }
   ],
   "source": [
    "True or True"
   ]
  },
  {
   "cell_type": "code",
   "execution_count": 38,
   "id": "da09917a-6c2d-4e23-a487-41d335658015",
   "metadata": {},
   "outputs": [
    {
     "data": {
      "text/plain": [
       "False"
      ]
     },
     "execution_count": 38,
     "metadata": {},
     "output_type": "execute_result"
    }
   ],
   "source": [
    "False or False"
   ]
  },
  {
   "cell_type": "code",
   "execution_count": 39,
   "id": "56ccbc5a-cdb7-4be2-8e1d-1f14ad0f2a10",
   "metadata": {},
   "outputs": [],
   "source": [
    "str_example='Hello world'\n",
    "my_str='sush'\n"
   ]
  },
  {
   "cell_type": "code",
   "execution_count": 44,
   "id": "6bf8a253-2556-4d6e-b638-d1c25a38e252",
   "metadata": {},
   "outputs": [
    {
     "data": {
      "text/plain": [
       "True"
      ]
     },
     "execution_count": 44,
     "metadata": {},
     "output_type": "execute_result"
    }
   ],
   "source": [
    "my_str.isalpha() or str_example.isnum()"
   ]
  },
  {
   "cell_type": "markdown",
   "id": "7d3a5cca-87a9-437d-9e64-eb37704558d6",
   "metadata": {},
   "source": [
    "# Lists"
   ]
  },
  {
   "cell_type": "code",
   "execution_count": 46,
   "id": "d881bf72-7084-4e76-b6c7-97c427c8b3ef",
   "metadata": {},
   "outputs": [
    {
     "data": {
      "text/plain": [
       "list"
      ]
     },
     "execution_count": 46,
     "metadata": {},
     "output_type": "execute_result"
    }
   ],
   "source": [
    "type([])"
   ]
  },
  {
   "cell_type": "code",
   "execution_count": 47,
   "id": "2dc7be15-b801-4cc9-ae05-ff3721ae2a9c",
   "metadata": {},
   "outputs": [],
   "source": [
    "lst_example=[]"
   ]
  },
  {
   "cell_type": "code",
   "execution_count": 48,
   "id": "6097c09f-2b88-4430-8fca-8a9a0b5d1ed7",
   "metadata": {},
   "outputs": [
    {
     "data": {
      "text/plain": [
       "list"
      ]
     },
     "execution_count": 48,
     "metadata": {},
     "output_type": "execute_result"
    }
   ],
   "source": [
    "type(lst_example)"
   ]
  },
  {
   "cell_type": "code",
   "execution_count": 53,
   "id": "cb2a6808-c05b-4dc9-877c-2350974fa944",
   "metadata": {},
   "outputs": [],
   "source": [
    "lst=list()"
   ]
  },
  {
   "cell_type": "code",
   "execution_count": 54,
   "id": "3fd49083-4f2f-4c8b-92e6-196150f13064",
   "metadata": {},
   "outputs": [
    {
     "data": {
      "text/plain": [
       "list"
      ]
     },
     "execution_count": 54,
     "metadata": {},
     "output_type": "execute_result"
    }
   ],
   "source": [
    "type(lst)"
   ]
  },
  {
   "cell_type": "code",
   "execution_count": 55,
   "id": "723501e2-ece6-421b-a7cc-f2ce96be218b",
   "metadata": {},
   "outputs": [],
   "source": [
    "lst=['Mathematics', 'computer science','botony',100,200,300]\n"
   ]
  },
  {
   "cell_type": "code",
   "execution_count": 56,
   "id": "2c4e162f-6244-474b-b6e9-5bdfaf5e2402",
   "metadata": {},
   "outputs": [
    {
     "data": {
      "text/plain": [
       "6"
      ]
     },
     "execution_count": 56,
     "metadata": {},
     "output_type": "execute_result"
    }
   ],
   "source": [
    "len(lst)"
   ]
  },
  {
   "cell_type": "code",
   "execution_count": 57,
   "id": "9c7a875c-1313-4e2b-a260-617cb6bc6802",
   "metadata": {},
   "outputs": [
    {
     "data": {
      "text/plain": [
       "list"
      ]
     },
     "execution_count": 57,
     "metadata": {},
     "output_type": "execute_result"
    }
   ],
   "source": [
    "type(lst)"
   ]
  },
  {
   "cell_type": "markdown",
   "id": "60a9c5ac-8b2c-4dc5-92bb-c40e66412dbc",
   "metadata": {},
   "source": [
    "# Append"
   ]
  },
  {
   "cell_type": "code",
   "execution_count": 59,
   "id": "a140907e-68ff-47b2-8d6e-54dd142e5972",
   "metadata": {},
   "outputs": [],
   "source": [
    "#append is used to add elements in the list\n",
    "lst.append('Sush')"
   ]
  },
  {
   "cell_type": "code",
   "execution_count": 71,
   "id": "ffe00754-8bc6-4d50-a33a-89af3f7c54b2",
   "metadata": {},
   "outputs": [],
   "source": [
    "lst.append(['john','sonu'])"
   ]
  },
  {
   "cell_type": "code",
   "execution_count": 73,
   "id": "4b826502-8ce8-4029-89af-86bc403c998a",
   "metadata": {},
   "outputs": [
    {
     "data": {
      "text/plain": [
       "['Mathematics',\n",
       " 'computer science',\n",
       " 'botony',\n",
       " 100,\n",
       " 200,\n",
       " 300,\n",
       " 'Sush',\n",
       " ['john', 'sonu']]"
      ]
     },
     "execution_count": 73,
     "metadata": {},
     "output_type": "execute_result"
    }
   ],
   "source": [
    "lst"
   ]
  },
  {
   "cell_type": "code",
   "execution_count": 65,
   "id": "6fa611ce-ddad-44cc-a5e1-250654dd20ba",
   "metadata": {},
   "outputs": [
    {
     "data": {
      "text/plain": [
       "200"
      ]
     },
     "execution_count": 65,
     "metadata": {},
     "output_type": "execute_result"
    }
   ],
   "source": [
    "##Indexing the list\n",
    "lst[4]\n"
   ]
  },
  {
   "cell_type": "code",
   "execution_count": 66,
   "id": "7658eb39-54eb-430f-841e-de8a099d5d26",
   "metadata": {},
   "outputs": [
    {
     "data": {
      "text/plain": [
       "['botony', 100, 200, 300, 'Sush']"
      ]
     },
     "execution_count": 66,
     "metadata": {},
     "output_type": "execute_result"
    }
   ],
   "source": [
    "lst[2:]"
   ]
  },
  {
   "cell_type": "code",
   "execution_count": 68,
   "id": "4f647363-895c-460d-919f-0eb1a817c237",
   "metadata": {},
   "outputs": [
    {
     "data": {
      "text/plain": [
       "['computer science', 'botony', 100, 200, 300]"
      ]
     },
     "execution_count": 68,
     "metadata": {},
     "output_type": "execute_result"
    }
   ],
   "source": [
    "lst[1:6]"
   ]
  },
  {
   "cell_type": "markdown",
   "id": "9ff6ef82-b6e1-4371-a526-dc373394c230",
   "metadata": {},
   "source": [
    "# Insert"
   ]
  },
  {
   "cell_type": "code",
   "execution_count": 81,
   "id": "cefb85f3-396f-4f64-802a-87843dee9e48",
   "metadata": {},
   "outputs": [],
   "source": [
    "#insert in a specific order"
   ]
  },
  {
   "cell_type": "code",
   "execution_count": 83,
   "id": "d6f60dc6-b409-4e9d-8e8f-9ab797aa5c9a",
   "metadata": {},
   "outputs": [],
   "source": [
    "lst.insert(2,\"deepa\")"
   ]
  },
  {
   "cell_type": "code",
   "execution_count": 84,
   "id": "620aefcb-f80b-4d43-9591-b85b4557b6d9",
   "metadata": {},
   "outputs": [
    {
     "data": {
      "text/plain": [
       "['Mathematics',\n",
       " 'computer science',\n",
       " 'deepa',\n",
       " 'deepa',\n",
       " 'botony',\n",
       " 100,\n",
       " 'deepa',\n",
       " 'deepa',\n",
       " 200,\n",
       " 300,\n",
       " 'Sush',\n",
       " ['john', 'sonu']]"
      ]
     },
     "execution_count": 84,
     "metadata": {},
     "output_type": "execute_result"
    }
   ],
   "source": [
    "lst"
   ]
  },
  {
   "cell_type": "code",
   "execution_count": 98,
   "id": "a1d6db23-163b-4487-9bcc-1120efa256c9",
   "metadata": {},
   "outputs": [],
   "source": [
    "lst.append('deepa')"
   ]
  },
  {
   "cell_type": "code",
   "execution_count": 99,
   "id": "1a00b7c0-2f3d-48f5-8f89-e3446280ad31",
   "metadata": {},
   "outputs": [
    {
     "data": {
      "text/plain": [
       "['Mathematics',\n",
       " 'computer science',\n",
       " 100,\n",
       " 'deepa',\n",
       " 'deepa',\n",
       " 200,\n",
       " 300,\n",
       " 'Sush',\n",
       " ['john', 'sonu'],\n",
       " 'deepa']"
      ]
     },
     "execution_count": 99,
     "metadata": {},
     "output_type": "execute_result"
    }
   ],
   "source": [
    "lst"
   ]
  },
  {
   "cell_type": "markdown",
   "id": "f2b90fb5-1c8a-4492-8212-d4cfbf5a4c8b",
   "metadata": {},
   "source": [
    "# Extend Method"
   ]
  },
  {
   "cell_type": "code",
   "execution_count": 100,
   "id": "5aae39db-f3e9-4fcc-a71a-db41d0b3450e",
   "metadata": {},
   "outputs": [],
   "source": [
    "lst=[1,2,3,4,5,6,7]"
   ]
  },
  {
   "cell_type": "code",
   "execution_count": 101,
   "id": "155b7bd7-39de-431f-adb8-864719eb3ddc",
   "metadata": {},
   "outputs": [
    {
     "data": {
      "text/plain": [
       "[1, 2, 3, 4, 5, 6, 7]"
      ]
     },
     "execution_count": 101,
     "metadata": {},
     "output_type": "execute_result"
    }
   ],
   "source": [
    "lst"
   ]
  },
  {
   "cell_type": "code",
   "execution_count": 102,
   "id": "43ec6d8d-dd63-4e5a-bff7-d02703207327",
   "metadata": {},
   "outputs": [],
   "source": [
    "lst.extend([8,9])"
   ]
  },
  {
   "cell_type": "code",
   "execution_count": 103,
   "id": "82cba8e5-a5b1-40fb-b47a-a164a3168d50",
   "metadata": {},
   "outputs": [
    {
     "data": {
      "text/plain": [
       "[1, 2, 3, 4, 5, 6, 7, 8, 9]"
      ]
     },
     "execution_count": 103,
     "metadata": {},
     "output_type": "execute_result"
    }
   ],
   "source": [
    "lst"
   ]
  },
  {
   "cell_type": "markdown",
   "id": "ded33993-ae4f-4d0f-98a8-b21b069dc8d2",
   "metadata": {},
   "source": [
    "## Various Operations that we can perform in a List"
   ]
  },
  {
   "cell_type": "code",
   "execution_count": 104,
   "id": "41de438a-831f-4394-8d58-20be9a59419f",
   "metadata": {},
   "outputs": [
    {
     "data": {
      "text/plain": [
       "[1, 2, 3, 4, 5, 6, 7, 8, 9]"
      ]
     },
     "execution_count": 104,
     "metadata": {},
     "output_type": "execute_result"
    }
   ],
   "source": [
    "lst"
   ]
  },
  {
   "cell_type": "code",
   "execution_count": 106,
   "id": "74667525-df12-4a2b-912b-71a3c8e966c2",
   "metadata": {},
   "outputs": [
    {
     "data": {
      "text/plain": [
       "45"
      ]
     },
     "execution_count": 106,
     "metadata": {},
     "output_type": "execute_result"
    }
   ],
   "source": [
    "sum(lst)"
   ]
  },
  {
   "cell_type": "markdown",
   "id": "4be9fc9e-2320-4414-8718-67ec5a3bb8a7",
   "metadata": {},
   "source": [
    "## Pop() Method"
   ]
  },
  {
   "cell_type": "code",
   "execution_count": 107,
   "id": "e8f44c75-a98f-4656-b2d9-d1081af91d47",
   "metadata": {},
   "outputs": [
    {
     "data": {
      "text/plain": [
       "[1, 2, 3, 4, 5, 6, 7, 8, 9]"
      ]
     },
     "execution_count": 107,
     "metadata": {},
     "output_type": "execute_result"
    }
   ],
   "source": [
    "lst"
   ]
  },
  {
   "cell_type": "code",
   "execution_count": 108,
   "id": "9eaeda6a-3266-47d1-baef-88e71b2facea",
   "metadata": {},
   "outputs": [
    {
     "data": {
      "text/plain": [
       "9"
      ]
     },
     "execution_count": 108,
     "metadata": {},
     "output_type": "execute_result"
    }
   ],
   "source": [
    "lst.pop()"
   ]
  },
  {
   "cell_type": "code",
   "execution_count": 109,
   "id": "ab008e51-0a25-467a-b8dc-dee0d3169750",
   "metadata": {},
   "outputs": [
    {
     "data": {
      "text/plain": [
       "[1, 2, 3, 4, 5, 6, 7, 8]"
      ]
     },
     "execution_count": 109,
     "metadata": {},
     "output_type": "execute_result"
    }
   ],
   "source": [
    "lst"
   ]
  },
  {
   "cell_type": "code",
   "execution_count": 110,
   "id": "7f6cb8fe-0422-4ddb-8415-0073eae3e97d",
   "metadata": {},
   "outputs": [
    {
     "data": {
      "text/plain": [
       "1"
      ]
     },
     "execution_count": 110,
     "metadata": {},
     "output_type": "execute_result"
    }
   ],
   "source": [
    "lst.pop(0)"
   ]
  },
  {
   "cell_type": "code",
   "execution_count": 111,
   "id": "c13ccf98-a93f-4269-8e55-02c43890911d",
   "metadata": {},
   "outputs": [
    {
     "data": {
      "text/plain": [
       "[2, 3, 4, 5, 6, 7, 8]"
      ]
     },
     "execution_count": 111,
     "metadata": {},
     "output_type": "execute_result"
    }
   ],
   "source": [
    "lst"
   ]
  },
  {
   "cell_type": "markdown",
   "id": "d21b91dc-fe25-45a6-9155-08b942567856",
   "metadata": {},
   "source": [
    "## Count(): calculates Total occurences of given element of List"
   ]
  },
  {
   "cell_type": "code",
   "execution_count": 129,
   "id": "16162d86-0053-4116-a263-ccb7070f5cef",
   "metadata": {},
   "outputs": [],
   "source": [
    "lst=[3,3,4,5,6,7]"
   ]
  },
  {
   "cell_type": "code",
   "execution_count": 128,
   "id": "0906462b-1614-4046-8226-738a6147cf02",
   "metadata": {},
   "outputs": [
    {
     "data": {
      "text/plain": [
       "[3, 3, 4, 5, 6, 7, 9]"
      ]
     },
     "execution_count": 128,
     "metadata": {},
     "output_type": "execute_result"
    }
   ],
   "source": [
    "lst"
   ]
  },
  {
   "cell_type": "code",
   "execution_count": 127,
   "id": "f0007804-5cc8-4fe0-b7f0-d75722cc84c2",
   "metadata": {},
   "outputs": [
    {
     "data": {
      "text/plain": [
       "1"
      ]
     },
     "execution_count": 127,
     "metadata": {},
     "output_type": "execute_result"
    }
   ],
   "source": [
    "lst.count(7)"
   ]
  },
  {
   "cell_type": "code",
   "execution_count": 123,
   "id": "31eb8d5d-05dd-4d0c-9b37-32b70ff8857f",
   "metadata": {},
   "outputs": [
    {
     "data": {
      "text/plain": [
       "6"
      ]
     },
     "execution_count": 123,
     "metadata": {},
     "output_type": "execute_result"
    }
   ],
   "source": [
    "# length(): calculates total length of list\n",
    "len(lst)"
   ]
  },
  {
   "cell_type": "code",
   "execution_count": 144,
   "id": "d58832b1-2218-4297-b6b3-4e0c1e37e5c8",
   "metadata": {},
   "outputs": [],
   "source": [
    "lst=[1,1,2,3,4,5]"
   ]
  },
  {
   "cell_type": "code",
   "execution_count": 145,
   "id": "9f22549f-0973-482a-903d-4b06b2b44c8c",
   "metadata": {},
   "outputs": [
    {
     "data": {
      "text/plain": [
       "[1, 1, 2, 3, 4, 5]"
      ]
     },
     "execution_count": 145,
     "metadata": {},
     "output_type": "execute_result"
    }
   ],
   "source": [
    "lst"
   ]
  },
  {
   "cell_type": "code",
   "execution_count": 146,
   "id": "191df44c-b99c-496d-ba58-6f55fd28d7b1",
   "metadata": {},
   "outputs": [
    {
     "data": {
      "text/plain": [
       "1"
      ]
     },
     "execution_count": 146,
     "metadata": {},
     "output_type": "execute_result"
    }
   ],
   "source": [
    "#index(): Returns the index of first Occurence, Start and End index are not necessary parameters\n",
    "lst.index(1,1,4)"
   ]
  },
  {
   "cell_type": "code",
   "execution_count": 147,
   "id": "6f9b6e98-3757-4f57-9a52-abcbf403fcde",
   "metadata": {},
   "outputs": [
    {
     "data": {
      "text/plain": [
       "1"
      ]
     },
     "execution_count": 147,
     "metadata": {},
     "output_type": "execute_result"
    }
   ],
   "source": [
    "## Min and Max\n",
    "min(lst)"
   ]
  },
  {
   "cell_type": "code",
   "execution_count": 148,
   "id": "cc571ee5-5743-4c9f-a33d-cf186a7c740a",
   "metadata": {},
   "outputs": [
    {
     "data": {
      "text/plain": [
       "5"
      ]
     },
     "execution_count": 148,
     "metadata": {},
     "output_type": "execute_result"
    }
   ],
   "source": [
    "max(lst)"
   ]
  }
 ],
 "metadata": {
  "kernelspec": {
   "display_name": "Python 3 (ipykernel)",
   "language": "python",
   "name": "python3"
  },
  "language_info": {
   "codemirror_mode": {
    "name": "ipython",
    "version": 3
   },
   "file_extension": ".py",
   "mimetype": "text/x-python",
   "name": "python",
   "nbconvert_exporter": "python",
   "pygments_lexer": "ipython3",
   "version": "3.12.7"
  }
 },
 "nbformat": 4,
 "nbformat_minor": 5
}
