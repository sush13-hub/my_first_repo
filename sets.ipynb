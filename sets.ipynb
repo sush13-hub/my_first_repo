{
 "cells": [
  {
   "cell_type": "markdown",
   "id": "cdaf3b92-5f39-4107-8c17-f608c905ff89",
   "metadata": {},
   "source": [
    "# SETS\n"
   ]
  },
  {
   "cell_type": "markdown",
   "id": "96e74043-5522-4efb-9cb4-9301ed76141c",
   "metadata": {},
   "source": [
    "#### A set is an unordered collection data type that is iterable,mutable and has no duplicate elements python class represents a mathematical notion of set. this is based on data structure know as hash table"
   ]
  },
  {
   "cell_type": "code",
   "execution_count": 2,
   "id": "05b0dd1b-314f-4af1-9cfa-5aca5b5558d4",
   "metadata": {},
   "outputs": [
    {
     "name": "stdout",
     "output_type": "stream",
     "text": [
      "set()\n",
      "<class 'set'>\n"
     ]
    }
   ],
   "source": [
    "#defining an empty set\n",
    "\n",
    "set_var=set()\n",
    "print(set_var)\n",
    "print(type(set_var))"
   ]
  },
  {
   "cell_type": "code",
   "execution_count": 13,
   "id": "c0b20415-7e55-4484-9246-c4f08de617c9",
   "metadata": {},
   "outputs": [],
   "source": [
    "set_var={1,2,3,4,3} #duplicate elements does not print in the output"
   ]
  },
  {
   "cell_type": "code",
   "execution_count": 4,
   "id": "7e728204-5edc-484f-af54-9fd883eb1b6f",
   "metadata": {},
   "outputs": [
    {
     "data": {
      "text/plain": [
       "{1, 2, 3, 4}"
      ]
     },
     "execution_count": 4,
     "metadata": {},
     "output_type": "execute_result"
    }
   ],
   "source": [
    "set_var"
   ]
  },
  {
   "cell_type": "code",
   "execution_count": 18,
   "id": "efebf8ad-9769-434b-8682-72bc8cb6c209",
   "metadata": {},
   "outputs": [
    {
     "data": {
      "text/plain": [
       "set"
      ]
     },
     "execution_count": 18,
     "metadata": {},
     "output_type": "execute_result"
    }
   ],
   "source": [
    "set_var={'Avengers','IronMan','Hitman'}\n",
    "type(set_var)"
   ]
  },
  {
   "cell_type": "markdown",
   "id": "57ca488d-a1cc-4659-989c-c39276c6dbc8",
   "metadata": {},
   "source": [
    "###                                 Remember: Set does not supporting indexing"
   ]
  },
  {
   "cell_type": "code",
   "execution_count": 3,
   "id": "3c6304b7-954e-4a0f-be5d-dd9b96b09b7f",
   "metadata": {},
   "outputs": [
    {
     "name": "stdout",
     "output_type": "stream",
     "text": [
      "{1, 2, 3, 4, 5}\n"
     ]
    },
    {
     "data": {
      "text/plain": [
       "set"
      ]
     },
     "execution_count": 3,
     "metadata": {},
     "output_type": "execute_result"
    }
   ],
   "source": [
    "set_var={1,2,3,4,5}\n",
    "print(set_var)\n",
    "type(set_var)"
   ]
  },
  {
   "cell_type": "code",
   "execution_count": 4,
   "id": "e5671b37-77f3-444f-8614-f3eb0e02ede5",
   "metadata": {},
   "outputs": [
    {
     "name": "stdout",
     "output_type": "stream",
     "text": [
      "{1, 2, 3, 4, 5, 'Hulk'}\n"
     ]
    }
   ],
   "source": [
    "# Inbuilt functions in sets\n",
    "set_var.add(\"Hulk\")\n",
    "print(set_var)\n"
   ]
  },
  {
   "cell_type": "code",
   "execution_count": 5,
   "id": "a7948c37-d33a-4f74-a9b0-c06ce8b4bbd0",
   "metadata": {},
   "outputs": [
    {
     "name": "stdout",
     "output_type": "stream",
     "text": [
      "{'Hitman', 'Avengers', 'IronMan'}\n"
     ]
    }
   ],
   "source": [
    "set_var={'Avengers','IronMan','Hitman'}\n",
    "print(set_var)"
   ]
  },
  {
   "cell_type": "code",
   "execution_count": 2,
   "id": "a7a69e2a-1f9c-410f-8030-e7b77485a004",
   "metadata": {},
   "outputs": [],
   "source": [
    "set1={'Avengers','IronMan','Hitman'}\n",
    "set2={'Avengers','IronMan','Hitman','Hulk'}"
   ]
  },
  {
   "cell_type": "code",
   "execution_count": 3,
   "id": "80940bf7-3ae2-4357-8900-ac5cc334ca57",
   "metadata": {},
   "outputs": [
    {
     "name": "stdout",
     "output_type": "stream",
     "text": [
      "{'Avengers', 'Hitman', 'Hulk', 'IronMan'}\n"
     ]
    }
   ],
   "source": [
    "print(set2)"
   ]
  },
  {
   "cell_type": "code",
   "execution_count": 4,
   "id": "0cd7c950-69a4-4b0c-bd03-4ad9c823013b",
   "metadata": {},
   "outputs": [
    {
     "name": "stdout",
     "output_type": "stream",
     "text": [
      "{'Avengers', 'Hitman', 'IronMan'}\n"
     ]
    }
   ],
   "source": [
    "print(set1)"
   ]
  },
  {
   "cell_type": "code",
   "execution_count": 2,
   "id": "4c0bffd9-080d-488b-b926-3677acd5c52a",
   "metadata": {},
   "outputs": [],
   "source": [
    "set1={'Avengers','IronMan','Hitman'}\n",
    "set2={'Avengers','IronMan','Hitman','Hulk'}"
   ]
  },
  {
   "cell_type": "code",
   "execution_count": 3,
   "id": "e10862b9-a21d-4fc4-a29f-df9e38bfa662",
   "metadata": {},
   "outputs": [
    {
     "name": "stdout",
     "output_type": "stream",
     "text": [
      "{'IronMan', 'Avengers', 'Hitman'}\n"
     ]
    }
   ],
   "source": [
    "print(set1)"
   ]
  },
  {
   "cell_type": "code",
   "execution_count": 4,
   "id": "9d5e5518-848e-4680-be63-ea293821fd01",
   "metadata": {},
   "outputs": [
    {
     "data": {
      "text/plain": [
       "{'Avengers', 'Hitman', 'IronMan'}"
      ]
     },
     "execution_count": 4,
     "metadata": {},
     "output_type": "execute_result"
    }
   ],
   "source": [
    "#intersection                   ##common elements will display from two sets\n",
    "set2.intersection(set1)"
   ]
  },
  {
   "cell_type": "code",
   "execution_count": 6,
   "id": "6cfd0638-949c-40da-8706-dc709d778e08",
   "metadata": {},
   "outputs": [
    {
     "data": {
      "text/plain": [
       "{'Hulk'}"
      ]
     },
     "execution_count": 6,
     "metadata": {},
     "output_type": "execute_result"
    }
   ],
   "source": [
    "#Differnce\n",
    "set2.difference(set1)"
   ]
  },
  {
   "cell_type": "code",
   "execution_count": 8,
   "id": "77bfd94f-ca82-4121-abee-b28b03ba0a21",
   "metadata": {},
   "outputs": [],
   "source": [
    "#Differnce_update\n",
    "set2.difference_update(set1)"
   ]
  },
  {
   "cell_type": "code",
   "execution_count": 9,
   "id": "fb6240d9-6a4e-44c6-8d28-e075d913fe12",
   "metadata": {},
   "outputs": [
    {
     "name": "stdout",
     "output_type": "stream",
     "text": [
      "{'Hulk'}\n"
     ]
    }
   ],
   "source": [
    "print(set2)"
   ]
  },
  {
   "cell_type": "markdown",
   "id": "eaf253f5-ad12-4cca-9c87-e14ff132c1d9",
   "metadata": {},
   "source": [
    "# Dictionaries"
   ]
  },
  {
   "cell_type": "markdown",
   "id": "18676833-7567-43f5-9b03-5e43f0b00547",
   "metadata": {},
   "source": [
    "#### A dictionary is collection which is unordered,changeable and Indexed. In python dictionaries are written with curly brackets and they have keys and values."
   ]
  },
  {
   "cell_type": "code",
   "execution_count": 13,
   "id": "19d77a85-4d80-480b-8018-84cb1888c13a",
   "metadata": {},
   "outputs": [],
   "source": [
    "dic={}"
   ]
  },
  {
   "cell_type": "code",
   "execution_count": 14,
   "id": "6d9860d5-d03d-42d4-8f5f-4f670cd38621",
   "metadata": {},
   "outputs": [
    {
     "data": {
      "text/plain": [
       "dict"
      ]
     },
     "execution_count": 14,
     "metadata": {},
     "output_type": "execute_result"
    }
   ],
   "source": [
    "type(dic)"
   ]
  },
  {
   "cell_type": "code",
   "execution_count": 15,
   "id": "fe350b87-3239-461c-826a-1659f324ef28",
   "metadata": {},
   "outputs": [],
   "source": [
    "dic={1,2,3,4,5}"
   ]
  },
  {
   "cell_type": "code",
   "execution_count": 17,
   "id": "5e362cce-4948-4dc7-a5f2-f2951f2aae68",
   "metadata": {},
   "outputs": [
    {
     "data": {
      "text/plain": [
       "dict"
      ]
     },
     "execution_count": 17,
     "metadata": {},
     "output_type": "execute_result"
    }
   ],
   "source": [
    "type(dic)"
   ]
  },
  {
   "cell_type": "code",
   "execution_count": 18,
   "id": "513d51d8-2772-4a71-bc04-e93348d60414",
   "metadata": {},
   "outputs": [],
   "source": [
    "# Let create dictionary\n",
    "my_dict={\"car1\": \"BMW\",\"car2\": \"Audi\",\"car3\": \"Mercidies Benz\"}"
   ]
  },
  {
   "cell_type": "code",
   "execution_count": 19,
   "id": "bffbaeb7-b57f-4ddf-85ce-6b15fa83ea17",
   "metadata": {},
   "outputs": [
    {
     "name": "stdout",
     "output_type": "stream",
     "text": [
      "{'car1': 'BMW', 'car2': 'Audi', 'car3': 'Mercidies Benz'}\n"
     ]
    }
   ],
   "source": [
    "print(my_dict)"
   ]
  },
  {
   "cell_type": "code",
   "execution_count": 21,
   "id": "a240a3cd-900d-474b-b4f6-04d9f3e2b74a",
   "metadata": {},
   "outputs": [
    {
     "data": {
      "text/plain": [
       "dict"
      ]
     },
     "execution_count": 21,
     "metadata": {},
     "output_type": "execute_result"
    }
   ],
   "source": [
    "type(my_dict)"
   ]
  },
  {
   "cell_type": "code",
   "execution_count": 24,
   "id": "104a3e5c-71ff-422e-8eb1-6bd94f009cc6",
   "metadata": {},
   "outputs": [
    {
     "data": {
      "text/plain": [
       "'Mercidies Benz'"
      ]
     },
     "execution_count": 24,
     "metadata": {},
     "output_type": "execute_result"
    }
   ],
   "source": [
    "# Acess the item values based on keys\n",
    "my_dict['car3']"
   ]
  },
  {
   "cell_type": "code",
   "execution_count": 29,
   "id": "d1b95a58-cd74-445e-afa3-b7acaf2d8cc2",
   "metadata": {},
   "outputs": [
    {
     "name": "stdout",
     "output_type": "stream",
     "text": [
      "car1\n",
      "car2\n",
      "car3\n"
     ]
    }
   ],
   "source": [
    "## we can even loop throught the dictionary keys\n",
    "\n",
    "for x in my_dict:\n",
    "    print(x)"
   ]
  },
  {
   "cell_type": "code",
   "execution_count": 31,
   "id": "f360a8e0-e4cc-43df-999c-5859e86ca11d",
   "metadata": {},
   "outputs": [
    {
     "name": "stdout",
     "output_type": "stream",
     "text": [
      "BMW\n",
      "Audi\n",
      "Mercidies Benz\n"
     ]
    }
   ],
   "source": [
    "## we can even loop throught the dictionary values\n",
    "\n",
    "for x in my_dict.values():\n",
    "    print(x)"
   ]
  },
  {
   "cell_type": "code",
   "execution_count": 32,
   "id": "fc6b0360-c9a2-4aa2-8d73-68ae41a6366e",
   "metadata": {},
   "outputs": [
    {
     "name": "stdout",
     "output_type": "stream",
     "text": [
      "('car1', 'BMW')\n",
      "('car2', 'Audi')\n",
      "('car3', 'Mercidies Benz')\n"
     ]
    }
   ],
   "source": [
    "## we can also check both keys and values\n",
    "\n",
    "for x in my_dict.items():\n",
    "    print(x)"
   ]
  },
  {
   "cell_type": "code",
   "execution_count": 41,
   "id": "5217bcfc-eb31-4289-a898-6cb9b500f9d0",
   "metadata": {},
   "outputs": [],
   "source": [
    "## adding items in dictionary\n",
    "\n",
    "my_dict['car4']='Audi 2.0'\n"
   ]
  },
  {
   "cell_type": "code",
   "execution_count": 42,
   "id": "6627eaed-f66b-4d07-adee-5ed8377bc131",
   "metadata": {},
   "outputs": [
    {
     "data": {
      "text/plain": [
       "{'car1': 'BMW', 'car2': 'Audi', 'car3': 'Mercidies Benz', 'car4': 'Audi 2.0'}"
      ]
     },
     "execution_count": 42,
     "metadata": {},
     "output_type": "execute_result"
    }
   ],
   "source": [
    "my_dict"
   ]
  },
  {
   "cell_type": "code",
   "execution_count": 47,
   "id": "23ed354a-d1dd-4c18-a282-4c28fa4ff4a6",
   "metadata": {},
   "outputs": [],
   "source": [
    "my_dict['car1']='Maruthi'      ## replacing car1 value bmw into maruthi"
   ]
  },
  {
   "cell_type": "code",
   "execution_count": 48,
   "id": "79cc87ac-2af5-4b74-b5fb-2a7c12413fa4",
   "metadata": {},
   "outputs": [
    {
     "data": {
      "text/plain": [
       "{'car1': 'Maruthi',\n",
       " 'car2': 'Audi',\n",
       " 'car3': 'Mercidies Benz',\n",
       " 'car4': 'Audi 2.0'}"
      ]
     },
     "execution_count": 48,
     "metadata": {},
     "output_type": "execute_result"
    }
   ],
   "source": [
    "my_dict"
   ]
  },
  {
   "cell_type": "markdown",
   "id": "ddd96fb1-6279-4a9f-90cb-a44634b96048",
   "metadata": {},
   "source": [
    "# Nested Dictionary"
   ]
  },
  {
   "cell_type": "code",
   "execution_count": 50,
   "id": "5242aeeb-066f-4725-a74d-ef2c75afd485",
   "metadata": {},
   "outputs": [],
   "source": [
    "car1_model={'mercedes':1960}\n",
    "car2_model={'Audi':1970}\n",
    "car3_model={'Ambassdor':1980}\n",
    "\n",
    "car_type={'car1':car1_model,'car2':car2_model,'car3':car3_model}"
   ]
  },
  {
   "cell_type": "code",
   "execution_count": 51,
   "id": "8755deec-8094-45d5-bf6f-05b59a21b36a",
   "metadata": {},
   "outputs": [
    {
     "name": "stdout",
     "output_type": "stream",
     "text": [
      "{'car1': {'mercedes': 1960}, 'car2': {'Audi': 1970}, 'car3': {'Ambassdor': 1980}}\n"
     ]
    }
   ],
   "source": [
    "print(car_type)"
   ]
  },
  {
   "cell_type": "code",
   "execution_count": null,
   "id": "803dc5ac-fad4-4a95-828b-06aa46fd56b1",
   "metadata": {},
   "outputs": [],
   "source": [
    "## Accessing the items in the dictionary"
   ]
  },
  {
   "cell_type": "code",
   "execution_count": 54,
   "id": "22a23d0d-f9dc-492c-a79e-992837d858d7",
   "metadata": {},
   "outputs": [
    {
     "name": "stdout",
     "output_type": "stream",
     "text": [
      "{'mercedes': 1960}\n"
     ]
    }
   ],
   "source": [
    "print(car_type['car1'])"
   ]
  },
  {
   "cell_type": "code",
   "execution_count": 56,
   "id": "25c8538e-b666-4be5-bc9c-cc94e76d053d",
   "metadata": {},
   "outputs": [
    {
     "name": "stdout",
     "output_type": "stream",
     "text": [
      "1960\n"
     ]
    }
   ],
   "source": [
    "print(car_type['car1']['mercedes'])"
   ]
  },
  {
   "cell_type": "markdown",
   "id": "a601aa04-4987-44ae-9127-98cd2f6e453d",
   "metadata": {},
   "source": [
    "# Tuples"
   ]
  },
  {
   "cell_type": "code",
   "execution_count": 57,
   "id": "ae4b1266-0b7d-4375-a8c2-2855842bb5aa",
   "metadata": {},
   "outputs": [],
   "source": [
    "#create an empty tuples\n",
    "\n",
    "my_tuple=tuple()"
   ]
  },
  {
   "cell_type": "code",
   "execution_count": 58,
   "id": "70a7caf7-c551-44e7-87b6-987780b5b311",
   "metadata": {},
   "outputs": [
    {
     "data": {
      "text/plain": [
       "tuple"
      ]
     },
     "execution_count": 58,
     "metadata": {},
     "output_type": "execute_result"
    }
   ],
   "source": [
    "type(my_tuple)"
   ]
  },
  {
   "cell_type": "code",
   "execution_count": 59,
   "id": "7fe8487d-cadc-45bb-a2c1-95444c7e6ab8",
   "metadata": {},
   "outputs": [],
   "source": [
    "my_tuple=()"
   ]
  },
  {
   "cell_type": "code",
   "execution_count": 60,
   "id": "3c18bd7e-d295-4723-876c-4eeababd1f4d",
   "metadata": {},
   "outputs": [
    {
     "data": {
      "text/plain": [
       "tuple"
      ]
     },
     "execution_count": 60,
     "metadata": {},
     "output_type": "execute_result"
    }
   ],
   "source": [
    "type(my_tuple)"
   ]
  },
  {
   "cell_type": "code",
   "execution_count": 61,
   "id": "e1bb9700-e425-4ac5-aa50-7788d918b914",
   "metadata": {},
   "outputs": [],
   "source": [
    "my_tuple=('sush','sony','vinay')"
   ]
  },
  {
   "cell_type": "code",
   "execution_count": 62,
   "id": "0797e534-a578-43cf-9d05-e40781472dd7",
   "metadata": {},
   "outputs": [
    {
     "data": {
      "text/plain": [
       "'sush'"
      ]
     },
     "execution_count": 62,
     "metadata": {},
     "output_type": "execute_result"
    }
   ],
   "source": [
    "my_tuple[0]"
   ]
  },
  {
   "cell_type": "code",
   "execution_count": 63,
   "id": "4b96ad21-15c8-4c04-a523-34ea204e69b8",
   "metadata": {},
   "outputs": [
    {
     "data": {
      "text/plain": [
       "'vinay'"
      ]
     },
     "execution_count": 63,
     "metadata": {},
     "output_type": "execute_result"
    }
   ],
   "source": [
    "my_tuple[2]"
   ]
  },
  {
   "cell_type": "code",
   "execution_count": 67,
   "id": "aec5606d-3b17-45a5-b20d-83eb23dda592",
   "metadata": {},
   "outputs": [],
   "source": [
    "my_tuple=(\"hello\", \"world\")"
   ]
  },
  {
   "cell_type": "code",
   "execution_count": 68,
   "id": "e7ea150c-a33d-4e65-82dc-9f5c09956d47",
   "metadata": {},
   "outputs": [
    {
     "name": "stdout",
     "output_type": "stream",
     "text": [
      "<class 'tuple'>\n",
      "('hello', 'world')\n"
     ]
    }
   ],
   "source": [
    "print(type(my_tuple))\n",
    "print(my_tuple)"
   ]
  },
  {
   "cell_type": "code",
   "execution_count": 69,
   "id": "77f82211-f5eb-499f-a52f-df4f4ed7a475",
   "metadata": {},
   "outputs": [
    {
     "data": {
      "text/plain": [
       "tuple"
      ]
     },
     "execution_count": 69,
     "metadata": {},
     "output_type": "execute_result"
    }
   ],
   "source": [
    "type(my_tuple)"
   ]
  },
  {
   "cell_type": "code",
   "execution_count": 77,
   "id": "416b4412-896b-4305-a050-0a7ef570a78c",
   "metadata": {},
   "outputs": [
    {
     "data": {
      "text/plain": [
       "1"
      ]
     },
     "execution_count": 77,
     "metadata": {},
     "output_type": "execute_result"
    }
   ],
   "source": [
    "## Inbuilt functions\n",
    "\n",
    "my_tuple.count('hello')"
   ]
  },
  {
   "cell_type": "code",
   "execution_count": 76,
   "id": "3c3431ad-24fa-49df-a984-d535defb7242",
   "metadata": {},
   "outputs": [
    {
     "name": "stdout",
     "output_type": "stream",
     "text": [
      "('hello', 'world')\n"
     ]
    }
   ],
   "source": [
    "print(my_tuple)"
   ]
  },
  {
   "cell_type": "code",
   "execution_count": 78,
   "id": "bd18b2c0-994b-4e60-89c8-7c56bd3fccb0",
   "metadata": {},
   "outputs": [
    {
     "data": {
      "text/plain": [
       "1"
      ]
     },
     "execution_count": 78,
     "metadata": {},
     "output_type": "execute_result"
    }
   ],
   "source": [
    "my_tuple.index('world')"
   ]
  }
 ],
 "metadata": {
  "kernelspec": {
   "display_name": "Python 3 (ipykernel)",
   "language": "python",
   "name": "python3"
  },
  "language_info": {
   "codemirror_mode": {
    "name": "ipython",
    "version": 3
   },
   "file_extension": ".py",
   "mimetype": "text/x-python",
   "name": "python",
   "nbconvert_exporter": "python",
   "pygments_lexer": "ipython3",
   "version": "3.12.7"
  }
 },
 "nbformat": 4,
 "nbformat_minor": 5
}
